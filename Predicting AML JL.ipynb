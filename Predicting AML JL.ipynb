{
 "cells": [
  {
   "cell_type": "code",
   "execution_count": 1,
   "metadata": {},
   "outputs": [],
   "source": [
    "import numpy as np\n",
    "import pandas as pd\n",
    "from glob import glob "
   ]
  },
  {
   "cell_type": "code",
   "execution_count": 2,
   "metadata": {},
   "outputs": [],
   "source": [
    "flowfiles = sorted(glob('./CSV/*.CSV'))"
   ]
  },
  {
   "cell_type": "code",
   "execution_count": 3,
   "metadata": {},
   "outputs": [
    {
     "data": {
      "text/plain": [
       "2872"
      ]
     },
     "execution_count": 3,
     "metadata": {},
     "output_type": "execute_result"
    }
   ],
   "source": [
    "np.size(flowfiles)"
   ]
  },
  {
   "cell_type": "code",
   "execution_count": 4,
   "metadata": {},
   "outputs": [],
   "source": [
    "df = []\n",
    "for file in flowfiles:\n",
    "    df.append(pd.read_csv(file))"
   ]
  },
  {
   "cell_type": "code",
   "execution_count": 5,
   "metadata": {},
   "outputs": [],
   "source": [
    "dfall = pd.concat(df, axis=1)"
   ]
  },
  {
   "cell_type": "code",
   "execution_count": 6,
   "metadata": {},
   "outputs": [
    {
     "data": {
      "text/html": [
       "<div>\n",
       "<style scoped>\n",
       "    .dataframe tbody tr th:only-of-type {\n",
       "        vertical-align: middle;\n",
       "    }\n",
       "\n",
       "    .dataframe tbody tr th {\n",
       "        vertical-align: top;\n",
       "    }\n",
       "\n",
       "    .dataframe thead th {\n",
       "        text-align: right;\n",
       "    }\n",
       "</style>\n",
       "<table border=\"1\" class=\"dataframe\">\n",
       "  <thead>\n",
       "    <tr style=\"text-align: right;\">\n",
       "      <th></th>\n",
       "      <th>FS Lin</th>\n",
       "      <th>SS Log</th>\n",
       "      <th>FL1 Log</th>\n",
       "      <th>FL2 Log</th>\n",
       "      <th>FL3 Log</th>\n",
       "      <th>FL4 Log</th>\n",
       "      <th>FL5 Log</th>\n",
       "      <th>FS Lin</th>\n",
       "      <th>SS Log</th>\n",
       "      <th>FL1 Log</th>\n",
       "      <th>...</th>\n",
       "      <th>FL3 Log</th>\n",
       "      <th>FL4 Log</th>\n",
       "      <th>FL5 Log</th>\n",
       "      <th>FS Lin</th>\n",
       "      <th>SS Log</th>\n",
       "      <th>FL1 Log</th>\n",
       "      <th>FL2 Log</th>\n",
       "      <th>FL3 Log</th>\n",
       "      <th>FL4 Log</th>\n",
       "      <th>FL5 Log</th>\n",
       "    </tr>\n",
       "  </thead>\n",
       "  <tbody>\n",
       "    <tr>\n",
       "      <th>0</th>\n",
       "      <td>427.0</td>\n",
       "      <td>0.452041</td>\n",
       "      <td>0.140279</td>\n",
       "      <td>0.213405</td>\n",
       "      <td>0.683650</td>\n",
       "      <td>0.160077</td>\n",
       "      <td>0.140279</td>\n",
       "      <td>830.0</td>\n",
       "      <td>0.628206</td>\n",
       "      <td>0.456709</td>\n",
       "      <td>...</td>\n",
       "      <td>0.682772</td>\n",
       "      <td>0.191440</td>\n",
       "      <td>0.357109</td>\n",
       "      <td>273.0</td>\n",
       "      <td>0.545397</td>\n",
       "      <td>0.218876</td>\n",
       "      <td>0.209609</td>\n",
       "      <td>0.181025</td>\n",
       "      <td>0.162678</td>\n",
       "      <td>0.143841</td>\n",
       "    </tr>\n",
       "    <tr>\n",
       "      <th>1</th>\n",
       "      <td>917.0</td>\n",
       "      <td>0.620252</td>\n",
       "      <td>0.253195</td>\n",
       "      <td>0.276627</td>\n",
       "      <td>0.609630</td>\n",
       "      <td>0.203733</td>\n",
       "      <td>0.257787</td>\n",
       "      <td>391.0</td>\n",
       "      <td>0.437027</td>\n",
       "      <td>0.165403</td>\n",
       "      <td>...</td>\n",
       "      <td>0.646730</td>\n",
       "      <td>0.233726</td>\n",
       "      <td>0.324564</td>\n",
       "      <td>1004.0</td>\n",
       "      <td>0.688913</td>\n",
       "      <td>0.434198</td>\n",
       "      <td>0.373748</td>\n",
       "      <td>0.358091</td>\n",
       "      <td>0.170233</td>\n",
       "      <td>0.232873</td>\n",
       "    </tr>\n",
       "    <tr>\n",
       "      <th>2</th>\n",
       "      <td>890.0</td>\n",
       "      <td>0.620252</td>\n",
       "      <td>0.248659</td>\n",
       "      <td>0.184568</td>\n",
       "      <td>0.592770</td>\n",
       "      <td>0.140279</td>\n",
       "      <td>0.140279</td>\n",
       "      <td>571.0</td>\n",
       "      <td>0.646730</td>\n",
       "      <td>0.485412</td>\n",
       "      <td>...</td>\n",
       "      <td>0.643205</td>\n",
       "      <td>0.182190</td>\n",
       "      <td>0.399901</td>\n",
       "      <td>608.0</td>\n",
       "      <td>0.530973</td>\n",
       "      <td>0.341356</td>\n",
       "      <td>0.289179</td>\n",
       "      <td>0.319624</td>\n",
       "      <td>0.140279</td>\n",
       "      <td>0.150493</td>\n",
       "    </tr>\n",
       "    <tr>\n",
       "      <th>3</th>\n",
       "      <td>855.0</td>\n",
       "      <td>0.656414</td>\n",
       "      <td>0.246862</td>\n",
       "      <td>0.248659</td>\n",
       "      <td>0.530069</td>\n",
       "      <td>0.167291</td>\n",
       "      <td>0.144721</td>\n",
       "      <td>961.0</td>\n",
       "      <td>0.629090</td>\n",
       "      <td>0.321599</td>\n",
       "      <td>...</td>\n",
       "      <td>0.651133</td>\n",
       "      <td>0.198798</td>\n",
       "      <td>0.355144</td>\n",
       "      <td>504.0</td>\n",
       "      <td>0.677507</td>\n",
       "      <td>0.363975</td>\n",
       "      <td>0.333457</td>\n",
       "      <td>0.306802</td>\n",
       "      <td>0.268065</td>\n",
       "      <td>0.167291</td>\n",
       "    </tr>\n",
       "    <tr>\n",
       "      <th>4</th>\n",
       "      <td>921.0</td>\n",
       "      <td>0.629973</td>\n",
       "      <td>0.212638</td>\n",
       "      <td>0.265240</td>\n",
       "      <td>0.598100</td>\n",
       "      <td>0.212638</td>\n",
       "      <td>0.162236</td>\n",
       "      <td>866.0</td>\n",
       "      <td>0.624672</td>\n",
       "      <td>0.371797</td>\n",
       "      <td>...</td>\n",
       "      <td>0.445487</td>\n",
       "      <td>0.172787</td>\n",
       "      <td>0.149134</td>\n",
       "      <td>625.0</td>\n",
       "      <td>0.619368</td>\n",
       "      <td>0.386385</td>\n",
       "      <td>0.339382</td>\n",
       "      <td>0.232023</td>\n",
       "      <td>0.180448</td>\n",
       "      <td>0.152257</td>\n",
       "    </tr>\n",
       "  </tbody>\n",
       "</table>\n",
       "<p>5 rows × 20104 columns</p>\n",
       "</div>"
      ],
      "text/plain": [
       "   FS Lin    SS Log   FL1 Log   FL2 Log   FL3 Log   FL4 Log   FL5 Log  FS Lin  \\\n",
       "0   427.0  0.452041  0.140279  0.213405  0.683650  0.160077  0.140279   830.0   \n",
       "1   917.0  0.620252  0.253195  0.276627  0.609630  0.203733  0.257787   391.0   \n",
       "2   890.0  0.620252  0.248659  0.184568  0.592770  0.140279  0.140279   571.0   \n",
       "3   855.0  0.656414  0.246862  0.248659  0.530069  0.167291  0.144721   961.0   \n",
       "4   921.0  0.629973  0.212638  0.265240  0.598100  0.212638  0.162236   866.0   \n",
       "\n",
       "     SS Log   FL1 Log  ...   FL3 Log   FL4 Log   FL5 Log  FS Lin    SS Log  \\\n",
       "0  0.628206  0.456709  ...  0.682772  0.191440  0.357109   273.0  0.545397   \n",
       "1  0.437027  0.165403  ...  0.646730  0.233726  0.324564  1004.0  0.688913   \n",
       "2  0.646730  0.485412  ...  0.643205  0.182190  0.399901   608.0  0.530973   \n",
       "3  0.629090  0.321599  ...  0.651133  0.198798  0.355144   504.0  0.677507   \n",
       "4  0.624672  0.371797  ...  0.445487  0.172787  0.149134   625.0  0.619368   \n",
       "\n",
       "    FL1 Log   FL2 Log   FL3 Log   FL4 Log   FL5 Log  \n",
       "0  0.218876  0.209609  0.181025  0.162678  0.143841  \n",
       "1  0.434198  0.373748  0.358091  0.170233  0.232873  \n",
       "2  0.341356  0.289179  0.319624  0.140279  0.150493  \n",
       "3  0.363975  0.333457  0.306802  0.268065  0.167291  \n",
       "4  0.386385  0.339382  0.232023  0.180448  0.152257  \n",
       "\n",
       "[5 rows x 20104 columns]"
      ]
     },
     "execution_count": 6,
     "metadata": {},
     "output_type": "execute_result"
    }
   ],
   "source": [
    "dfall.head()"
   ]
  },
  {
   "cell_type": "code",
   "execution_count": 7,
   "metadata": {},
   "outputs": [],
   "source": [
    "allmean = dfall.mean()"
   ]
  },
  {
   "cell_type": "code",
   "execution_count": 8,
   "metadata": {},
   "outputs": [
    {
     "data": {
      "text/plain": [
       "FS Lin     663.982311\n",
       "SS Log       0.554379\n",
       "FL1 Log      0.205182\n",
       "FL2 Log      0.202277\n",
       "FL3 Log      0.589269\n",
       "FL4 Log      0.181832\n",
       "FL5 Log      0.161980\n",
       "FS Lin     647.846675\n",
       "SS Log       0.551979\n",
       "FL1 Log      0.355550\n",
       "FL2 Log      0.376491\n",
       "FL3 Log      0.588194\n",
       "FL4 Log      0.178982\n",
       "FL5 Log      0.179637\n",
       "FS Lin     654.394432\n",
       "SS Log       0.552958\n",
       "FL1 Log      0.321500\n",
       "FL2 Log      0.255099\n",
       "FL3 Log      0.587023\n",
       "FL4 Log      0.241918\n",
       "FL5 Log      0.265074\n",
       "FS Lin     649.450761\n",
       "SS Log       0.551180\n",
       "FL1 Log      0.428255\n",
       "FL2 Log      0.419017\n",
       "FL3 Log      0.585546\n",
       "FL4 Log      0.444936\n",
       "FL5 Log      0.178783\n",
       "FS Lin     653.504435\n",
       "SS Log       0.555380\n",
       "              ...    \n",
       "FL4 Log      0.360984\n",
       "FL5 Log      0.183908\n",
       "FS Lin     531.122820\n",
       "SS Log       0.584919\n",
       "FL1 Log      0.371969\n",
       "FL2 Log      0.437240\n",
       "FL3 Log      0.593453\n",
       "FL4 Log      0.282514\n",
       "FL5 Log      0.377876\n",
       "FS Lin     534.170525\n",
       "SS Log       0.585394\n",
       "FL1 Log      0.386405\n",
       "FL2 Log      0.316586\n",
       "FL3 Log      0.595179\n",
       "FL4 Log      0.188771\n",
       "FL5 Log      0.348597\n",
       "FS Lin     516.839742\n",
       "SS Log       0.580930\n",
       "FL1 Log      0.357280\n",
       "FL2 Log      0.300590\n",
       "FL3 Log      0.588583\n",
       "FL4 Log      0.224235\n",
       "FL5 Log      0.233621\n",
       "FS Lin     563.586544\n",
       "SS Log       0.590594\n",
       "FL1 Log      0.343537\n",
       "FL2 Log      0.298784\n",
       "FL3 Log      0.295554\n",
       "FL4 Log      0.198099\n",
       "FL5 Log      0.174882\n",
       "Length: 20104, dtype: float64"
      ]
     },
     "execution_count": 8,
     "metadata": {},
     "output_type": "execute_result"
    }
   ],
   "source": [
    "allmean"
   ]
  },
  {
   "cell_type": "code",
   "execution_count": 9,
   "metadata": {},
   "outputs": [],
   "source": [
    "allstd = dfall.std()"
   ]
  },
  {
   "cell_type": "code",
   "execution_count": 10,
   "metadata": {},
   "outputs": [],
   "source": [
    "allmeant = allmean.values.reshape(1,20104)"
   ]
  },
  {
   "cell_type": "code",
   "execution_count": 11,
   "metadata": {},
   "outputs": [
    {
     "data": {
      "text/plain": [
       "array([[6.63982311e+02, 5.54379281e-01, 2.05182417e-01, ...,\n",
       "        2.95554363e-01, 1.98099321e-01, 1.74881841e-01]])"
      ]
     },
     "execution_count": 11,
     "metadata": {},
     "output_type": "execute_result"
    }
   ],
   "source": [
    "allmeant"
   ]
  },
  {
   "cell_type": "code",
   "execution_count": 12,
   "metadata": {},
   "outputs": [],
   "source": [
    "meanbypt = allmeant.reshape(359,56)"
   ]
  },
  {
   "cell_type": "code",
   "execution_count": 13,
   "metadata": {},
   "outputs": [],
   "source": [
    "allstdt = allstd.values.reshape(1,20104)\n",
    "stdbypt = allstdt.reshape(359,56)"
   ]
  },
  {
   "cell_type": "code",
   "execution_count": 14,
   "metadata": {},
   "outputs": [],
   "source": [
    "meandf = pd.DataFrame(meanbypt)\n",
    "stddf = pd.DataFrame(stdbypt)\n",
    "meanstd = pd.concat([meandf, stddf], axis=1, ignore_index=True)"
   ]
  },
  {
   "cell_type": "code",
   "execution_count": 15,
   "metadata": {},
   "outputs": [],
   "source": [
    "nmeanstd = (meanstd-meanstd.mean())/meanstd.std()"
   ]
  },
  {
   "cell_type": "code",
   "execution_count": 16,
   "metadata": {},
   "outputs": [
    {
     "data": {
      "text/html": [
       "<div>\n",
       "<style scoped>\n",
       "    .dataframe tbody tr th:only-of-type {\n",
       "        vertical-align: middle;\n",
       "    }\n",
       "\n",
       "    .dataframe tbody tr th {\n",
       "        vertical-align: top;\n",
       "    }\n",
       "\n",
       "    .dataframe thead th {\n",
       "        text-align: right;\n",
       "    }\n",
       "</style>\n",
       "<table border=\"1\" class=\"dataframe\">\n",
       "  <thead>\n",
       "    <tr style=\"text-align: right;\">\n",
       "      <th></th>\n",
       "      <th>0</th>\n",
       "      <th>1</th>\n",
       "      <th>2</th>\n",
       "      <th>3</th>\n",
       "      <th>4</th>\n",
       "      <th>5</th>\n",
       "      <th>6</th>\n",
       "      <th>7</th>\n",
       "      <th>8</th>\n",
       "      <th>9</th>\n",
       "      <th>...</th>\n",
       "      <th>102</th>\n",
       "      <th>103</th>\n",
       "      <th>104</th>\n",
       "      <th>105</th>\n",
       "      <th>106</th>\n",
       "      <th>107</th>\n",
       "      <th>108</th>\n",
       "      <th>109</th>\n",
       "      <th>110</th>\n",
       "      <th>111</th>\n",
       "    </tr>\n",
       "  </thead>\n",
       "  <tbody>\n",
       "    <tr>\n",
       "      <th>0</th>\n",
       "      <td>0.724059</td>\n",
       "      <td>0.106032</td>\n",
       "      <td>-2.068189</td>\n",
       "      <td>-1.605533</td>\n",
       "      <td>0.976610</td>\n",
       "      <td>-0.790146</td>\n",
       "      <td>-0.654122</td>\n",
       "      <td>0.467571</td>\n",
       "      <td>0.003707</td>\n",
       "      <td>-0.775275</td>\n",
       "      <td>...</td>\n",
       "      <td>-0.294594</td>\n",
       "      <td>1.484286</td>\n",
       "      <td>1.828793</td>\n",
       "      <td>0.437341</td>\n",
       "      <td>0.900965</td>\n",
       "      <td>-1.404640</td>\n",
       "      <td>-1.100869</td>\n",
       "      <td>-0.793735</td>\n",
       "      <td>-1.008740</td>\n",
       "      <td>-0.840372</td>\n",
       "    </tr>\n",
       "    <tr>\n",
       "      <th>1</th>\n",
       "      <td>-0.598340</td>\n",
       "      <td>-0.345903</td>\n",
       "      <td>0.271800</td>\n",
       "      <td>0.520084</td>\n",
       "      <td>-1.204607</td>\n",
       "      <td>-0.318882</td>\n",
       "      <td>-0.169895</td>\n",
       "      <td>-0.768231</td>\n",
       "      <td>-0.389929</td>\n",
       "      <td>-1.314466</td>\n",
       "      <td>...</td>\n",
       "      <td>2.751601</td>\n",
       "      <td>0.155206</td>\n",
       "      <td>1.852962</td>\n",
       "      <td>1.282574</td>\n",
       "      <td>0.601596</td>\n",
       "      <td>2.646525</td>\n",
       "      <td>1.867702</td>\n",
       "      <td>-0.404049</td>\n",
       "      <td>-1.351440</td>\n",
       "      <td>-0.917193</td>\n",
       "    </tr>\n",
       "    <tr>\n",
       "      <th>2</th>\n",
       "      <td>-0.083755</td>\n",
       "      <td>0.831444</td>\n",
       "      <td>0.199366</td>\n",
       "      <td>0.137162</td>\n",
       "      <td>-0.082670</td>\n",
       "      <td>-0.932709</td>\n",
       "      <td>-0.601002</td>\n",
       "      <td>0.350320</td>\n",
       "      <td>1.097122</td>\n",
       "      <td>0.976002</td>\n",
       "      <td>...</td>\n",
       "      <td>-0.463032</td>\n",
       "      <td>-0.316102</td>\n",
       "      <td>0.173063</td>\n",
       "      <td>-0.387059</td>\n",
       "      <td>-0.144500</td>\n",
       "      <td>-0.722537</td>\n",
       "      <td>-0.356661</td>\n",
       "      <td>0.890634</td>\n",
       "      <td>1.142559</td>\n",
       "      <td>1.328802</td>\n",
       "    </tr>\n",
       "    <tr>\n",
       "      <th>3</th>\n",
       "      <td>-0.030980</td>\n",
       "      <td>0.631368</td>\n",
       "      <td>-0.945416</td>\n",
       "      <td>-0.146853</td>\n",
       "      <td>-1.031468</td>\n",
       "      <td>-0.612485</td>\n",
       "      <td>0.791507</td>\n",
       "      <td>-0.079704</td>\n",
       "      <td>0.639293</td>\n",
       "      <td>1.512032</td>\n",
       "      <td>...</td>\n",
       "      <td>0.396563</td>\n",
       "      <td>0.253226</td>\n",
       "      <td>0.720206</td>\n",
       "      <td>0.284082</td>\n",
       "      <td>0.881715</td>\n",
       "      <td>-0.779484</td>\n",
       "      <td>-0.553059</td>\n",
       "      <td>-0.551742</td>\n",
       "      <td>-0.956418</td>\n",
       "      <td>-0.477104</td>\n",
       "    </tr>\n",
       "    <tr>\n",
       "      <th>4</th>\n",
       "      <td>0.762673</td>\n",
       "      <td>-1.257636</td>\n",
       "      <td>0.971841</td>\n",
       "      <td>0.910076</td>\n",
       "      <td>0.036925</td>\n",
       "      <td>1.383815</td>\n",
       "      <td>0.172384</td>\n",
       "      <td>0.767229</td>\n",
       "      <td>-1.259603</td>\n",
       "      <td>1.010991</td>\n",
       "      <td>...</td>\n",
       "      <td>-0.833190</td>\n",
       "      <td>1.006317</td>\n",
       "      <td>-2.114181</td>\n",
       "      <td>-0.365621</td>\n",
       "      <td>-0.414174</td>\n",
       "      <td>0.774051</td>\n",
       "      <td>0.543391</td>\n",
       "      <td>-0.774111</td>\n",
       "      <td>-0.687180</td>\n",
       "      <td>-1.247541</td>\n",
       "    </tr>\n",
       "  </tbody>\n",
       "</table>\n",
       "<p>5 rows × 112 columns</p>\n",
       "</div>"
      ],
      "text/plain": [
       "        0         1         2         3         4         5         6    \\\n",
       "0  0.724059  0.106032 -2.068189 -1.605533  0.976610 -0.790146 -0.654122   \n",
       "1 -0.598340 -0.345903  0.271800  0.520084 -1.204607 -0.318882 -0.169895   \n",
       "2 -0.083755  0.831444  0.199366  0.137162 -0.082670 -0.932709 -0.601002   \n",
       "3 -0.030980  0.631368 -0.945416 -0.146853 -1.031468 -0.612485  0.791507   \n",
       "4  0.762673 -1.257636  0.971841  0.910076  0.036925  1.383815  0.172384   \n",
       "\n",
       "        7         8         9    ...       102       103       104       105  \\\n",
       "0  0.467571  0.003707 -0.775275  ... -0.294594  1.484286  1.828793  0.437341   \n",
       "1 -0.768231 -0.389929 -1.314466  ...  2.751601  0.155206  1.852962  1.282574   \n",
       "2  0.350320  1.097122  0.976002  ... -0.463032 -0.316102  0.173063 -0.387059   \n",
       "3 -0.079704  0.639293  1.512032  ...  0.396563  0.253226  0.720206  0.284082   \n",
       "4  0.767229 -1.259603  1.010991  ... -0.833190  1.006317 -2.114181 -0.365621   \n",
       "\n",
       "        106       107       108       109       110       111  \n",
       "0  0.900965 -1.404640 -1.100869 -0.793735 -1.008740 -0.840372  \n",
       "1  0.601596  2.646525  1.867702 -0.404049 -1.351440 -0.917193  \n",
       "2 -0.144500 -0.722537 -0.356661  0.890634  1.142559  1.328802  \n",
       "3  0.881715 -0.779484 -0.553059 -0.551742 -0.956418 -0.477104  \n",
       "4 -0.414174  0.774051  0.543391 -0.774111 -0.687180 -1.247541  \n",
       "\n",
       "[5 rows x 112 columns]"
      ]
     },
     "execution_count": 16,
     "metadata": {},
     "output_type": "execute_result"
    }
   ],
   "source": [
    "nmeanstd.head()"
   ]
  },
  {
   "cell_type": "code",
   "execution_count": 17,
   "metadata": {},
   "outputs": [],
   "source": [
    "ntraining179 = nmeanstd.iloc[0:179]"
   ]
  },
  {
   "cell_type": "code",
   "execution_count": 18,
   "metadata": {},
   "outputs": [],
   "source": [
    "test180 = nmeanstd.iloc[179:360]"
   ]
  },
  {
   "cell_type": "code",
   "execution_count": 19,
   "metadata": {},
   "outputs": [],
   "source": [
    "key = pd.read_csv('AMLTraining.csv')"
   ]
  },
  {
   "cell_type": "code",
   "execution_count": 20,
   "metadata": {},
   "outputs": [
    {
     "data": {
      "text/html": [
       "<div>\n",
       "<style scoped>\n",
       "    .dataframe tbody tr th:only-of-type {\n",
       "        vertical-align: middle;\n",
       "    }\n",
       "\n",
       "    .dataframe tbody tr th {\n",
       "        vertical-align: top;\n",
       "    }\n",
       "\n",
       "    .dataframe thead th {\n",
       "        text-align: right;\n",
       "    }\n",
       "</style>\n",
       "<table border=\"1\" class=\"dataframe\">\n",
       "  <thead>\n",
       "    <tr style=\"text-align: right;\">\n",
       "      <th></th>\n",
       "      <th>FCSFileName</th>\n",
       "      <th>TubeNumber</th>\n",
       "      <th>SampleNumber</th>\n",
       "      <th>Label</th>\n",
       "    </tr>\n",
       "  </thead>\n",
       "  <tbody>\n",
       "    <tr>\n",
       "      <th>0</th>\n",
       "      <td>1</td>\n",
       "      <td>1</td>\n",
       "      <td>1</td>\n",
       "      <td>normal</td>\n",
       "    </tr>\n",
       "    <tr>\n",
       "      <th>1</th>\n",
       "      <td>2</td>\n",
       "      <td>2</td>\n",
       "      <td>1</td>\n",
       "      <td>normal</td>\n",
       "    </tr>\n",
       "    <tr>\n",
       "      <th>2</th>\n",
       "      <td>3</td>\n",
       "      <td>3</td>\n",
       "      <td>1</td>\n",
       "      <td>normal</td>\n",
       "    </tr>\n",
       "    <tr>\n",
       "      <th>3</th>\n",
       "      <td>4</td>\n",
       "      <td>4</td>\n",
       "      <td>1</td>\n",
       "      <td>normal</td>\n",
       "    </tr>\n",
       "    <tr>\n",
       "      <th>4</th>\n",
       "      <td>5</td>\n",
       "      <td>5</td>\n",
       "      <td>1</td>\n",
       "      <td>normal</td>\n",
       "    </tr>\n",
       "  </tbody>\n",
       "</table>\n",
       "</div>"
      ],
      "text/plain": [
       "   FCSFileName  TubeNumber  SampleNumber   Label\n",
       "0            1           1             1  normal\n",
       "1            2           2             1  normal\n",
       "2            3           3             1  normal\n",
       "3            4           4             1  normal\n",
       "4            5           5             1  normal"
      ]
     },
     "execution_count": 20,
     "metadata": {},
     "output_type": "execute_result"
    }
   ],
   "source": [
    "key.head()"
   ]
  },
  {
   "cell_type": "code",
   "execution_count": 21,
   "metadata": {},
   "outputs": [],
   "source": [
    "dfk = pd.DataFrame(key)\n",
    "nkey = dfk.iloc[::8]"
   ]
  },
  {
   "cell_type": "code",
   "execution_count": 22,
   "metadata": {},
   "outputs": [
    {
     "data": {
      "text/html": [
       "<div>\n",
       "<style scoped>\n",
       "    .dataframe tbody tr th:only-of-type {\n",
       "        vertical-align: middle;\n",
       "    }\n",
       "\n",
       "    .dataframe tbody tr th {\n",
       "        vertical-align: top;\n",
       "    }\n",
       "\n",
       "    .dataframe thead th {\n",
       "        text-align: right;\n",
       "    }\n",
       "</style>\n",
       "<table border=\"1\" class=\"dataframe\">\n",
       "  <thead>\n",
       "    <tr style=\"text-align: right;\">\n",
       "      <th></th>\n",
       "      <th>FCSFileName</th>\n",
       "      <th>TubeNumber</th>\n",
       "      <th>SampleNumber</th>\n",
       "      <th>Label</th>\n",
       "    </tr>\n",
       "  </thead>\n",
       "  <tbody>\n",
       "    <tr>\n",
       "      <th>0</th>\n",
       "      <td>1</td>\n",
       "      <td>1</td>\n",
       "      <td>1</td>\n",
       "      <td>normal</td>\n",
       "    </tr>\n",
       "    <tr>\n",
       "      <th>8</th>\n",
       "      <td>9</td>\n",
       "      <td>1</td>\n",
       "      <td>2</td>\n",
       "      <td>normal</td>\n",
       "    </tr>\n",
       "    <tr>\n",
       "      <th>16</th>\n",
       "      <td>17</td>\n",
       "      <td>1</td>\n",
       "      <td>3</td>\n",
       "      <td>normal</td>\n",
       "    </tr>\n",
       "    <tr>\n",
       "      <th>24</th>\n",
       "      <td>25</td>\n",
       "      <td>1</td>\n",
       "      <td>4</td>\n",
       "      <td>normal</td>\n",
       "    </tr>\n",
       "    <tr>\n",
       "      <th>32</th>\n",
       "      <td>33</td>\n",
       "      <td>1</td>\n",
       "      <td>5</td>\n",
       "      <td>aml</td>\n",
       "    </tr>\n",
       "  </tbody>\n",
       "</table>\n",
       "</div>"
      ],
      "text/plain": [
       "    FCSFileName  TubeNumber  SampleNumber   Label\n",
       "0             1           1             1  normal\n",
       "8             9           1             2  normal\n",
       "16           17           1             3  normal\n",
       "24           25           1             4  normal\n",
       "32           33           1             5     aml"
      ]
     },
     "execution_count": 22,
     "metadata": {},
     "output_type": "execute_result"
    }
   ],
   "source": [
    "nkey.head()"
   ]
  },
  {
   "cell_type": "code",
   "execution_count": 23,
   "metadata": {},
   "outputs": [],
   "source": [
    "key2 = nkey['Label']== 'aml'\n",
    "bikey = key2*1"
   ]
  },
  {
   "cell_type": "code",
   "execution_count": 24,
   "metadata": {},
   "outputs": [],
   "source": [
    "nkey = bikey.reset_index()['Label']"
   ]
  },
  {
   "cell_type": "code",
   "execution_count": 25,
   "metadata": {},
   "outputs": [
    {
     "data": {
      "text/plain": [
       "(359,)"
      ]
     },
     "execution_count": 25,
     "metadata": {},
     "output_type": "execute_result"
    }
   ],
   "source": [
    "np.shape(nkey)"
   ]
  },
  {
   "cell_type": "code",
   "execution_count": 26,
   "metadata": {},
   "outputs": [],
   "source": [
    "keydf179 = pd.DataFrame(nkey[0:179])"
   ]
  },
  {
   "cell_type": "code",
   "execution_count": 27,
   "metadata": {},
   "outputs": [
    {
     "data": {
      "text/plain": [
       "179"
      ]
     },
     "execution_count": 27,
     "metadata": {},
     "output_type": "execute_result"
    }
   ],
   "source": [
    "np.size(keydf179)"
   ]
  },
  {
   "cell_type": "code",
   "execution_count": 28,
   "metadata": {},
   "outputs": [],
   "source": [
    "key179 = np.ravel(keydf179)"
   ]
  },
  {
   "cell_type": "code",
   "execution_count": 29,
   "metadata": {},
   "outputs": [
    {
     "data": {
      "text/plain": [
       "array([0, 0, 0, 0, 1, 0, 1, 0, 1, 0, 0, 0, 0, 0, 0, 0, 0, 0, 0, 0, 0, 0,\n",
       "       0, 0, 0, 1, 0, 0, 0, 0, 0, 0, 1, 0, 0, 0, 1, 0, 0, 0, 0, 0, 0, 0,\n",
       "       0, 0, 0, 0, 1, 0, 0, 0, 0, 0, 0, 0, 0, 1, 0, 1, 0, 0, 0, 0, 0, 0,\n",
       "       1, 0, 0, 0, 0, 0, 0, 0, 0, 0, 0, 0, 0, 0, 0, 0, 0, 0, 0, 0, 0, 1,\n",
       "       1, 0, 0, 0, 0, 0, 1, 0, 0, 0, 0, 0, 1, 0, 1, 0, 1, 0, 0, 0, 0, 0,\n",
       "       0, 0, 0, 0, 0, 1, 1, 0, 0, 0, 0, 0, 0, 0, 0, 0, 0, 0, 0, 0, 0, 0,\n",
       "       0, 1, 0, 0, 0, 0, 0, 0, 0, 0, 0, 0, 0, 0, 0, 0, 0, 0, 1, 0, 0, 0,\n",
       "       0, 0, 0, 0, 0, 0, 0, 0, 0, 0, 1, 0, 0, 0, 0, 0, 0, 1, 0, 1, 0, 0,\n",
       "       0, 0, 0])"
      ]
     },
     "execution_count": 29,
     "metadata": {},
     "output_type": "execute_result"
    }
   ],
   "source": [
    "key179"
   ]
  },
  {
   "cell_type": "code",
   "execution_count": 30,
   "metadata": {},
   "outputs": [],
   "source": [
    "import matplotlib.pyplot as plt\n",
    "import seaborn as sns\n",
    "%matplotlib inline"
   ]
  },
  {
   "cell_type": "code",
   "execution_count": 31,
   "metadata": {},
   "outputs": [],
   "source": [
    "from sklearn.svm import SVC\n",
    "model = SVC()"
   ]
  },
  {
   "cell_type": "code",
   "execution_count": 32,
   "metadata": {},
   "outputs": [
    {
     "name": "stderr",
     "output_type": "stream",
     "text": [
      "/Users/jliao/anaconda3/lib/python3.7/site-packages/sklearn/svm/base.py:193: FutureWarning: The default value of gamma will change from 'auto' to 'scale' in version 0.22 to account better for unscaled features. Set gamma explicitly to 'auto' or 'scale' to avoid this warning.\n",
      "  \"avoid this warning.\", FutureWarning)\n"
     ]
    },
    {
     "data": {
      "text/plain": [
       "SVC(C=1.0, cache_size=200, class_weight=None, coef0=0.0,\n",
       "    decision_function_shape='ovr', degree=3, gamma='auto_deprecated',\n",
       "    kernel='rbf', max_iter=-1, probability=False, random_state=None,\n",
       "    shrinking=True, tol=0.001, verbose=False)"
      ]
     },
     "execution_count": 32,
     "metadata": {},
     "output_type": "execute_result"
    }
   ],
   "source": [
    "model.fit(ntraining179,key179)"
   ]
  },
  {
   "cell_type": "code",
   "execution_count": 33,
   "metadata": {},
   "outputs": [],
   "source": [
    "predictions = model.predict(test180)"
   ]
  },
  {
   "cell_type": "code",
   "execution_count": 34,
   "metadata": {},
   "outputs": [
    {
     "data": {
      "text/plain": [
       "array([0, 0, 0, 0, 0, 0, 0, 0, 0, 0, 0, 0, 0, 0, 0, 0, 0, 0, 0, 0, 0, 0,\n",
       "       0, 1, 0, 1, 0, 0, 0, 0, 0, 1, 0, 0, 0, 0, 0, 0, 0, 1, 0, 1, 0, 0,\n",
       "       0, 0, 0, 1, 0, 0, 0, 0, 0, 0, 0, 0, 1, 0, 0, 1, 0, 0, 0, 0, 0, 0,\n",
       "       0, 0, 0, 0, 0, 0, 0, 0, 0, 0, 0, 0, 0, 0, 0, 1, 1, 0, 0, 0, 0, 0,\n",
       "       0, 1, 0, 0, 0, 0, 0, 0, 0, 0, 0, 0, 0, 0, 0, 0, 1, 1, 0, 0, 0, 0,\n",
       "       0, 0, 0, 0, 0, 0, 0, 0, 0, 1, 0, 0, 0, 0, 0, 0, 0, 0, 0, 0, 0, 0,\n",
       "       0, 0, 1, 0, 0, 0, 0, 0, 0, 0, 0, 0, 0, 0, 1, 0, 0, 0, 0, 0, 0, 0,\n",
       "       0, 0, 0, 1, 0, 0, 0, 0, 0, 0, 1, 0, 0, 0, 1, 0, 0, 0, 0, 0, 0, 0,\n",
       "       0, 0, 0, 0])"
      ]
     },
     "execution_count": 34,
     "metadata": {},
     "output_type": "execute_result"
    }
   ],
   "source": [
    "predictions"
   ]
  },
  {
   "cell_type": "code",
   "execution_count": 48,
   "metadata": {},
   "outputs": [],
   "source": [
    "param_grid = {'C': [0.1,1,10,100,200,500,800,1000], 'gamma': [10,1,0.1,0.01,0.001,0.0001], 'kernel': ['rbf']} "
   ]
  },
  {
   "cell_type": "code",
   "execution_count": 49,
   "metadata": {},
   "outputs": [
    {
     "name": "stderr",
     "output_type": "stream",
     "text": [
      "/Users/jliao/anaconda3/lib/python3.7/site-packages/sklearn/model_selection/_split.py:1978: FutureWarning: The default value of cv will change from 3 to 5 in version 0.22. Specify it explicitly to silence this warning.\n",
      "  warnings.warn(CV_WARNING, FutureWarning)\n",
      "[Parallel(n_jobs=1)]: Using backend SequentialBackend with 1 concurrent workers.\n",
      "[Parallel(n_jobs=1)]: Done   1 out of   1 | elapsed:    0.0s remaining:    0.0s\n",
      "[Parallel(n_jobs=1)]: Done   2 out of   2 | elapsed:    0.0s remaining:    0.0s\n"
     ]
    },
    {
     "name": "stdout",
     "output_type": "stream",
     "text": [
      "Fitting 3 folds for each of 48 candidates, totalling 144 fits\n",
      "[CV] C=0.1, gamma=10, kernel=rbf .....................................\n",
      "[CV] ......... C=0.1, gamma=10, kernel=rbf, score=0.867, total=   0.0s\n",
      "[CV] C=0.1, gamma=10, kernel=rbf .....................................\n",
      "[CV] ......... C=0.1, gamma=10, kernel=rbf, score=0.867, total=   0.0s\n",
      "[CV] C=0.1, gamma=10, kernel=rbf .....................................\n",
      "[CV] ......... C=0.1, gamma=10, kernel=rbf, score=0.881, total=   0.0s\n",
      "[CV] C=0.1, gamma=1, kernel=rbf ......................................\n",
      "[CV] .......... C=0.1, gamma=1, kernel=rbf, score=0.867, total=   0.0s\n",
      "[CV] C=0.1, gamma=1, kernel=rbf ......................................\n",
      "[CV] .......... C=0.1, gamma=1, kernel=rbf, score=0.867, total=   0.0s\n",
      "[CV] C=0.1, gamma=1, kernel=rbf ......................................\n",
      "[CV] .......... C=0.1, gamma=1, kernel=rbf, score=0.881, total=   0.0s\n",
      "[CV] C=0.1, gamma=0.1, kernel=rbf ....................................\n",
      "[CV] ........ C=0.1, gamma=0.1, kernel=rbf, score=0.867, total=   0.0s\n",
      "[CV] C=0.1, gamma=0.1, kernel=rbf ....................................\n",
      "[CV] ........ C=0.1, gamma=0.1, kernel=rbf, score=0.867, total=   0.0s\n",
      "[CV] C=0.1, gamma=0.1, kernel=rbf ....................................\n",
      "[CV] ........ C=0.1, gamma=0.1, kernel=rbf, score=0.881, total=   0.0s\n",
      "[CV] C=0.1, gamma=0.01, kernel=rbf ...................................\n",
      "[CV] ....... C=0.1, gamma=0.01, kernel=rbf, score=0.867, total=   0.0s\n",
      "[CV] C=0.1, gamma=0.01, kernel=rbf ...................................\n",
      "[CV] ....... C=0.1, gamma=0.01, kernel=rbf, score=0.867, total=   0.0s\n",
      "[CV] C=0.1, gamma=0.01, kernel=rbf ...................................\n",
      "[CV] ....... C=0.1, gamma=0.01, kernel=rbf, score=0.881, total=   0.0s\n",
      "[CV] C=0.1, gamma=0.001, kernel=rbf ..................................\n",
      "[CV] ...... C=0.1, gamma=0.001, kernel=rbf, score=0.867, total=   0.0s\n",
      "[CV] C=0.1, gamma=0.001, kernel=rbf ..................................\n",
      "[CV] ...... C=0.1, gamma=0.001, kernel=rbf, score=0.867, total=   0.0s\n",
      "[CV] C=0.1, gamma=0.001, kernel=rbf ..................................\n",
      "[CV] ...... C=0.1, gamma=0.001, kernel=rbf, score=0.881, total=   0.0s\n",
      "[CV] C=0.1, gamma=0.0001, kernel=rbf .................................\n",
      "[CV] ..... C=0.1, gamma=0.0001, kernel=rbf, score=0.867, total=   0.0s\n",
      "[CV] C=0.1, gamma=0.0001, kernel=rbf .................................\n",
      "[CV] ..... C=0.1, gamma=0.0001, kernel=rbf, score=0.867, total=   0.0s\n",
      "[CV] C=0.1, gamma=0.0001, kernel=rbf .................................\n",
      "[CV] ..... C=0.1, gamma=0.0001, kernel=rbf, score=0.881, total=   0.0s\n",
      "[CV] C=1, gamma=10, kernel=rbf .......................................\n",
      "[CV] ........... C=1, gamma=10, kernel=rbf, score=0.867, total=   0.0s\n",
      "[CV] C=1, gamma=10, kernel=rbf .......................................\n",
      "[CV] ........... C=1, gamma=10, kernel=rbf, score=0.867, total=   0.0s\n",
      "[CV] C=1, gamma=10, kernel=rbf .......................................\n",
      "[CV] ........... C=1, gamma=10, kernel=rbf, score=0.881, total=   0.0s\n",
      "[CV] C=1, gamma=1, kernel=rbf ........................................\n",
      "[CV] ............ C=1, gamma=1, kernel=rbf, score=0.867, total=   0.0s\n",
      "[CV] C=1, gamma=1, kernel=rbf ........................................\n",
      "[CV] ............ C=1, gamma=1, kernel=rbf, score=0.867, total=   0.0s\n",
      "[CV] C=1, gamma=1, kernel=rbf ........................................\n",
      "[CV] ............ C=1, gamma=1, kernel=rbf, score=0.881, total=   0.0s\n",
      "[CV] C=1, gamma=0.1, kernel=rbf ......................................\n",
      "[CV] .......... C=1, gamma=0.1, kernel=rbf, score=0.867, total=   0.0s\n",
      "[CV] C=1, gamma=0.1, kernel=rbf ......................................\n",
      "[CV] .......... C=1, gamma=0.1, kernel=rbf, score=0.867, total=   0.0s\n",
      "[CV] C=1, gamma=0.1, kernel=rbf ......................................\n",
      "[CV] .......... C=1, gamma=0.1, kernel=rbf, score=0.881, total=   0.0s\n",
      "[CV] C=1, gamma=0.01, kernel=rbf .....................................\n",
      "[CV] ......... C=1, gamma=0.01, kernel=rbf, score=0.983, total=   0.0s\n",
      "[CV] C=1, gamma=0.01, kernel=rbf .....................................\n",
      "[CV] ......... C=1, gamma=0.01, kernel=rbf, score=0.933, total=   0.0s\n",
      "[CV] C=1, gamma=0.01, kernel=rbf .....................................\n",
      "[CV] ......... C=1, gamma=0.01, kernel=rbf, score=0.932, total=   0.0s\n",
      "[CV] C=1, gamma=0.001, kernel=rbf ....................................\n",
      "[CV] ........ C=1, gamma=0.001, kernel=rbf, score=0.967, total=   0.0s\n",
      "[CV] C=1, gamma=0.001, kernel=rbf ....................................\n",
      "[CV] ........ C=1, gamma=0.001, kernel=rbf, score=0.917, total=   0.0s\n",
      "[CV] C=1, gamma=0.001, kernel=rbf ....................................\n",
      "[CV] ........ C=1, gamma=0.001, kernel=rbf, score=0.932, total=   0.0s\n",
      "[CV] C=1, gamma=0.0001, kernel=rbf ...................................\n",
      "[CV] ....... C=1, gamma=0.0001, kernel=rbf, score=0.867, total=   0.0s\n",
      "[CV] C=1, gamma=0.0001, kernel=rbf ...................................\n",
      "[CV] ....... C=1, gamma=0.0001, kernel=rbf, score=0.867, total=   0.0s\n",
      "[CV] C=1, gamma=0.0001, kernel=rbf ...................................\n",
      "[CV] ....... C=1, gamma=0.0001, kernel=rbf, score=0.881, total=   0.0s\n",
      "[CV] C=10, gamma=10, kernel=rbf ......................................\n",
      "[CV] .......... C=10, gamma=10, kernel=rbf, score=0.867, total=   0.0s\n",
      "[CV] C=10, gamma=10, kernel=rbf ......................................\n",
      "[CV] .......... C=10, gamma=10, kernel=rbf, score=0.867, total=   0.0s\n",
      "[CV] C=10, gamma=10, kernel=rbf ......................................\n",
      "[CV] .......... C=10, gamma=10, kernel=rbf, score=0.881, total=   0.0s\n",
      "[CV] C=10, gamma=1, kernel=rbf .......................................\n",
      "[CV] ........... C=10, gamma=1, kernel=rbf, score=0.867, total=   0.0s\n",
      "[CV] C=10, gamma=1, kernel=rbf .......................................\n",
      "[CV] ........... C=10, gamma=1, kernel=rbf, score=0.867, total=   0.0s\n",
      "[CV] C=10, gamma=1, kernel=rbf .......................................\n",
      "[CV] ........... C=10, gamma=1, kernel=rbf, score=0.881, total=   0.0s\n",
      "[CV] C=10, gamma=0.1, kernel=rbf .....................................\n",
      "[CV] ......... C=10, gamma=0.1, kernel=rbf, score=0.867, total=   0.0s\n",
      "[CV] C=10, gamma=0.1, kernel=rbf .....................................\n",
      "[CV] ......... C=10, gamma=0.1, kernel=rbf, score=0.867, total=   0.0s\n",
      "[CV] C=10, gamma=0.1, kernel=rbf .....................................\n",
      "[CV] ......... C=10, gamma=0.1, kernel=rbf, score=0.881, total=   0.0s\n",
      "[CV] C=10, gamma=0.01, kernel=rbf ....................................\n",
      "[CV] ........ C=10, gamma=0.01, kernel=rbf, score=0.983, total=   0.0s\n",
      "[CV] C=10, gamma=0.01, kernel=rbf ....................................\n",
      "[CV] ........ C=10, gamma=0.01, kernel=rbf, score=0.933, total=   0.0s\n",
      "[CV] C=10, gamma=0.01, kernel=rbf ....................................\n",
      "[CV] ........ C=10, gamma=0.01, kernel=rbf, score=0.932, total=   0.0s\n",
      "[CV] C=10, gamma=0.001, kernel=rbf ...................................\n",
      "[CV] ....... C=10, gamma=0.001, kernel=rbf, score=0.983, total=   0.0s\n",
      "[CV] C=10, gamma=0.001, kernel=rbf ...................................\n",
      "[CV] ....... C=10, gamma=0.001, kernel=rbf, score=0.983, total=   0.0s\n",
      "[CV] C=10, gamma=0.001, kernel=rbf ...................................\n",
      "[CV] ....... C=10, gamma=0.001, kernel=rbf, score=0.915, total=   0.0s\n",
      "[CV] C=10, gamma=0.0001, kernel=rbf ..................................\n",
      "[CV] ...... C=10, gamma=0.0001, kernel=rbf, score=0.967, total=   0.0s\n",
      "[CV] C=10, gamma=0.0001, kernel=rbf ..................................\n",
      "[CV] ...... C=10, gamma=0.0001, kernel=rbf, score=0.917, total=   0.0s\n",
      "[CV] C=10, gamma=0.0001, kernel=rbf ..................................\n",
      "[CV] ...... C=10, gamma=0.0001, kernel=rbf, score=0.932, total=   0.0s\n",
      "[CV] C=100, gamma=10, kernel=rbf .....................................\n",
      "[CV] ......... C=100, gamma=10, kernel=rbf, score=0.867, total=   0.0s\n",
      "[CV] C=100, gamma=10, kernel=rbf .....................................\n",
      "[CV] ......... C=100, gamma=10, kernel=rbf, score=0.867, total=   0.0s\n",
      "[CV] C=100, gamma=10, kernel=rbf .....................................\n",
      "[CV] ......... C=100, gamma=10, kernel=rbf, score=0.881, total=   0.0s\n",
      "[CV] C=100, gamma=1, kernel=rbf ......................................\n",
      "[CV] .......... C=100, gamma=1, kernel=rbf, score=0.867, total=   0.0s\n",
      "[CV] C=100, gamma=1, kernel=rbf ......................................\n",
      "[CV] .......... C=100, gamma=1, kernel=rbf, score=0.867, total=   0.0s\n",
      "[CV] C=100, gamma=1, kernel=rbf ......................................\n",
      "[CV] .......... C=100, gamma=1, kernel=rbf, score=0.881, total=   0.0s\n",
      "[CV] C=100, gamma=0.1, kernel=rbf ....................................\n",
      "[CV] ........ C=100, gamma=0.1, kernel=rbf, score=0.867, total=   0.0s\n",
      "[CV] C=100, gamma=0.1, kernel=rbf ....................................\n",
      "[CV] ........ C=100, gamma=0.1, kernel=rbf, score=0.867, total=   0.0s\n",
      "[CV] C=100, gamma=0.1, kernel=rbf ....................................\n",
      "[CV] ........ C=100, gamma=0.1, kernel=rbf, score=0.881, total=   0.0s\n",
      "[CV] C=100, gamma=0.01, kernel=rbf ...................................\n",
      "[CV] ....... C=100, gamma=0.01, kernel=rbf, score=0.983, total=   0.0s\n",
      "[CV] C=100, gamma=0.01, kernel=rbf ...................................\n",
      "[CV] ....... C=100, gamma=0.01, kernel=rbf, score=0.933, total=   0.0s\n",
      "[CV] C=100, gamma=0.01, kernel=rbf ...................................\n",
      "[CV] ....... C=100, gamma=0.01, kernel=rbf, score=0.932, total=   0.0s\n",
      "[CV] C=100, gamma=0.001, kernel=rbf ..................................\n",
      "[CV] ...... C=100, gamma=0.001, kernel=rbf, score=1.000, total=   0.0s\n",
      "[CV] C=100, gamma=0.001, kernel=rbf ..................................\n",
      "[CV] ...... C=100, gamma=0.001, kernel=rbf, score=0.983, total=   0.0s\n",
      "[CV] C=100, gamma=0.001, kernel=rbf ..................................\n",
      "[CV] ...... C=100, gamma=0.001, kernel=rbf, score=0.915, total=   0.0s\n",
      "[CV] C=100, gamma=0.0001, kernel=rbf .................................\n",
      "[CV] ..... C=100, gamma=0.0001, kernel=rbf, score=0.983, total=   0.0s\n",
      "[CV] C=100, gamma=0.0001, kernel=rbf .................................\n",
      "[CV] ..... C=100, gamma=0.0001, kernel=rbf, score=1.000, total=   0.0s\n",
      "[CV] C=100, gamma=0.0001, kernel=rbf .................................\n",
      "[CV] ..... C=100, gamma=0.0001, kernel=rbf, score=0.915, total=   0.0s\n",
      "[CV] C=200, gamma=10, kernel=rbf .....................................\n",
      "[CV] ......... C=200, gamma=10, kernel=rbf, score=0.867, total=   0.0s\n",
      "[CV] C=200, gamma=10, kernel=rbf .....................................\n",
      "[CV] ......... C=200, gamma=10, kernel=rbf, score=0.867, total=   0.0s\n",
      "[CV] C=200, gamma=10, kernel=rbf .....................................\n",
      "[CV] ......... C=200, gamma=10, kernel=rbf, score=0.881, total=   0.0s\n",
      "[CV] C=200, gamma=1, kernel=rbf ......................................\n",
      "[CV] .......... C=200, gamma=1, kernel=rbf, score=0.867, total=   0.0s\n",
      "[CV] C=200, gamma=1, kernel=rbf ......................................\n",
      "[CV] .......... C=200, gamma=1, kernel=rbf, score=0.867, total=   0.0s\n",
      "[CV] C=200, gamma=1, kernel=rbf ......................................\n",
      "[CV] .......... C=200, gamma=1, kernel=rbf, score=0.881, total=   0.0s\n",
      "[CV] C=200, gamma=0.1, kernel=rbf ....................................\n",
      "[CV] ........ C=200, gamma=0.1, kernel=rbf, score=0.867, total=   0.0s\n",
      "[CV] C=200, gamma=0.1, kernel=rbf ....................................\n",
      "[CV] ........ C=200, gamma=0.1, kernel=rbf, score=0.867, total=   0.0s\n",
      "[CV] C=200, gamma=0.1, kernel=rbf ....................................\n",
      "[CV] ........ C=200, gamma=0.1, kernel=rbf, score=0.881, total=   0.0s\n",
      "[CV] C=200, gamma=0.01, kernel=rbf ...................................\n"
     ]
    },
    {
     "name": "stdout",
     "output_type": "stream",
     "text": [
      "[CV] ....... C=200, gamma=0.01, kernel=rbf, score=0.983, total=   0.0s\n",
      "[CV] C=200, gamma=0.01, kernel=rbf ...................................\n",
      "[CV] ....... C=200, gamma=0.01, kernel=rbf, score=0.933, total=   0.0s\n",
      "[CV] C=200, gamma=0.01, kernel=rbf ...................................\n",
      "[CV] ....... C=200, gamma=0.01, kernel=rbf, score=0.932, total=   0.0s\n",
      "[CV] C=200, gamma=0.001, kernel=rbf ..................................\n",
      "[CV] ...... C=200, gamma=0.001, kernel=rbf, score=1.000, total=   0.0s\n",
      "[CV] C=200, gamma=0.001, kernel=rbf ..................................\n",
      "[CV] ...... C=200, gamma=0.001, kernel=rbf, score=0.983, total=   0.0s\n",
      "[CV] C=200, gamma=0.001, kernel=rbf ..................................\n",
      "[CV] ...... C=200, gamma=0.001, kernel=rbf, score=0.915, total=   0.0s\n",
      "[CV] C=200, gamma=0.0001, kernel=rbf .................................\n",
      "[CV] ..... C=200, gamma=0.0001, kernel=rbf, score=0.983, total=   0.0s\n",
      "[CV] C=200, gamma=0.0001, kernel=rbf .................................\n",
      "[CV] ..... C=200, gamma=0.0001, kernel=rbf, score=1.000, total=   0.0s\n",
      "[CV] C=200, gamma=0.0001, kernel=rbf .................................\n",
      "[CV] ..... C=200, gamma=0.0001, kernel=rbf, score=0.915, total=   0.0s\n",
      "[CV] C=500, gamma=10, kernel=rbf .....................................\n",
      "[CV] ......... C=500, gamma=10, kernel=rbf, score=0.867, total=   0.0s\n",
      "[CV] C=500, gamma=10, kernel=rbf .....................................\n",
      "[CV] ......... C=500, gamma=10, kernel=rbf, score=0.867, total=   0.0s\n",
      "[CV] C=500, gamma=10, kernel=rbf .....................................\n",
      "[CV] ......... C=500, gamma=10, kernel=rbf, score=0.881, total=   0.0s\n",
      "[CV] C=500, gamma=1, kernel=rbf ......................................\n",
      "[CV] .......... C=500, gamma=1, kernel=rbf, score=0.867, total=   0.0s\n",
      "[CV] C=500, gamma=1, kernel=rbf ......................................\n",
      "[CV] .......... C=500, gamma=1, kernel=rbf, score=0.867, total=   0.0s\n",
      "[CV] C=500, gamma=1, kernel=rbf ......................................\n",
      "[CV] .......... C=500, gamma=1, kernel=rbf, score=0.881, total=   0.0s\n",
      "[CV] C=500, gamma=0.1, kernel=rbf ....................................\n",
      "[CV] ........ C=500, gamma=0.1, kernel=rbf, score=0.867, total=   0.0s\n",
      "[CV] C=500, gamma=0.1, kernel=rbf ....................................\n",
      "[CV] ........ C=500, gamma=0.1, kernel=rbf, score=0.867, total=   0.0s\n",
      "[CV] C=500, gamma=0.1, kernel=rbf ....................................\n",
      "[CV] ........ C=500, gamma=0.1, kernel=rbf, score=0.881, total=   0.0s\n",
      "[CV] C=500, gamma=0.01, kernel=rbf ...................................\n",
      "[CV] ....... C=500, gamma=0.01, kernel=rbf, score=0.983, total=   0.0s\n",
      "[CV] C=500, gamma=0.01, kernel=rbf ...................................\n",
      "[CV] ....... C=500, gamma=0.01, kernel=rbf, score=0.933, total=   0.0s\n",
      "[CV] C=500, gamma=0.01, kernel=rbf ...................................\n",
      "[CV] ....... C=500, gamma=0.01, kernel=rbf, score=0.932, total=   0.0s\n",
      "[CV] C=500, gamma=0.001, kernel=rbf ..................................\n",
      "[CV] ...... C=500, gamma=0.001, kernel=rbf, score=1.000, total=   0.0s\n",
      "[CV] C=500, gamma=0.001, kernel=rbf ..................................\n",
      "[CV] ...... C=500, gamma=0.001, kernel=rbf, score=0.983, total=   0.0s\n",
      "[CV] C=500, gamma=0.001, kernel=rbf ..................................\n",
      "[CV] ...... C=500, gamma=0.001, kernel=rbf, score=0.915, total=   0.0s\n",
      "[CV] C=500, gamma=0.0001, kernel=rbf .................................\n",
      "[CV] ..... C=500, gamma=0.0001, kernel=rbf, score=1.000, total=   0.0s\n",
      "[CV] C=500, gamma=0.0001, kernel=rbf .................................\n",
      "[CV] ..... C=500, gamma=0.0001, kernel=rbf, score=0.983, total=   0.0s\n",
      "[CV] C=500, gamma=0.0001, kernel=rbf .................................\n",
      "[CV] ..... C=500, gamma=0.0001, kernel=rbf, score=0.915, total=   0.0s\n",
      "[CV] C=800, gamma=10, kernel=rbf .....................................\n",
      "[CV] ......... C=800, gamma=10, kernel=rbf, score=0.867, total=   0.0s\n",
      "[CV] C=800, gamma=10, kernel=rbf .....................................\n",
      "[CV] ......... C=800, gamma=10, kernel=rbf, score=0.867, total=   0.0s\n",
      "[CV] C=800, gamma=10, kernel=rbf .....................................\n",
      "[CV] ......... C=800, gamma=10, kernel=rbf, score=0.881, total=   0.0s\n",
      "[CV] C=800, gamma=1, kernel=rbf ......................................\n",
      "[CV] .......... C=800, gamma=1, kernel=rbf, score=0.867, total=   0.0s\n",
      "[CV] C=800, gamma=1, kernel=rbf ......................................\n",
      "[CV] .......... C=800, gamma=1, kernel=rbf, score=0.867, total=   0.0s\n",
      "[CV] C=800, gamma=1, kernel=rbf ......................................\n",
      "[CV] .......... C=800, gamma=1, kernel=rbf, score=0.881, total=   0.0s\n",
      "[CV] C=800, gamma=0.1, kernel=rbf ....................................\n",
      "[CV] ........ C=800, gamma=0.1, kernel=rbf, score=0.867, total=   0.0s\n",
      "[CV] C=800, gamma=0.1, kernel=rbf ....................................\n",
      "[CV] ........ C=800, gamma=0.1, kernel=rbf, score=0.867, total=   0.0s\n",
      "[CV] C=800, gamma=0.1, kernel=rbf ....................................\n",
      "[CV] ........ C=800, gamma=0.1, kernel=rbf, score=0.881, total=   0.0s\n",
      "[CV] C=800, gamma=0.01, kernel=rbf ...................................\n",
      "[CV] ....... C=800, gamma=0.01, kernel=rbf, score=0.983, total=   0.0s\n",
      "[CV] C=800, gamma=0.01, kernel=rbf ...................................\n",
      "[CV] ....... C=800, gamma=0.01, kernel=rbf, score=0.933, total=   0.0s\n",
      "[CV] C=800, gamma=0.01, kernel=rbf ...................................\n",
      "[CV] ....... C=800, gamma=0.01, kernel=rbf, score=0.932, total=   0.0s\n",
      "[CV] C=800, gamma=0.001, kernel=rbf ..................................\n",
      "[CV] ...... C=800, gamma=0.001, kernel=rbf, score=1.000, total=   0.0s\n",
      "[CV] C=800, gamma=0.001, kernel=rbf ..................................\n",
      "[CV] ...... C=800, gamma=0.001, kernel=rbf, score=0.983, total=   0.0s\n",
      "[CV] C=800, gamma=0.001, kernel=rbf ..................................\n",
      "[CV] ...... C=800, gamma=0.001, kernel=rbf, score=0.915, total=   0.0s\n",
      "[CV] C=800, gamma=0.0001, kernel=rbf .................................\n",
      "[CV] ..... C=800, gamma=0.0001, kernel=rbf, score=1.000, total=   0.0s\n",
      "[CV] C=800, gamma=0.0001, kernel=rbf .................................\n",
      "[CV] ..... C=800, gamma=0.0001, kernel=rbf, score=0.983, total=   0.0s\n",
      "[CV] C=800, gamma=0.0001, kernel=rbf .................................\n",
      "[CV] ..... C=800, gamma=0.0001, kernel=rbf, score=0.915, total=   0.0s\n",
      "[CV] C=1000, gamma=10, kernel=rbf ....................................\n",
      "[CV] ........ C=1000, gamma=10, kernel=rbf, score=0.867, total=   0.0s\n",
      "[CV] C=1000, gamma=10, kernel=rbf ....................................\n",
      "[CV] ........ C=1000, gamma=10, kernel=rbf, score=0.867, total=   0.0s\n",
      "[CV] C=1000, gamma=10, kernel=rbf ....................................\n",
      "[CV] ........ C=1000, gamma=10, kernel=rbf, score=0.881, total=   0.0s\n",
      "[CV] C=1000, gamma=1, kernel=rbf .....................................\n",
      "[CV] ......... C=1000, gamma=1, kernel=rbf, score=0.867, total=   0.0s\n",
      "[CV] C=1000, gamma=1, kernel=rbf .....................................\n",
      "[CV] ......... C=1000, gamma=1, kernel=rbf, score=0.867, total=   0.0s\n",
      "[CV] C=1000, gamma=1, kernel=rbf .....................................\n",
      "[CV] ......... C=1000, gamma=1, kernel=rbf, score=0.881, total=   0.0s\n",
      "[CV] C=1000, gamma=0.1, kernel=rbf ...................................\n",
      "[CV] ....... C=1000, gamma=0.1, kernel=rbf, score=0.867, total=   0.0s\n",
      "[CV] C=1000, gamma=0.1, kernel=rbf ...................................\n",
      "[CV] ....... C=1000, gamma=0.1, kernel=rbf, score=0.867, total=   0.0s\n",
      "[CV] C=1000, gamma=0.1, kernel=rbf ...................................\n",
      "[CV] ....... C=1000, gamma=0.1, kernel=rbf, score=0.881, total=   0.0s\n",
      "[CV] C=1000, gamma=0.01, kernel=rbf ..................................\n",
      "[CV] ...... C=1000, gamma=0.01, kernel=rbf, score=0.983, total=   0.0s\n",
      "[CV] C=1000, gamma=0.01, kernel=rbf ..................................\n",
      "[CV] ...... C=1000, gamma=0.01, kernel=rbf, score=0.933, total=   0.0s\n",
      "[CV] C=1000, gamma=0.01, kernel=rbf ..................................\n",
      "[CV] ...... C=1000, gamma=0.01, kernel=rbf, score=0.932, total=   0.0s\n",
      "[CV] C=1000, gamma=0.001, kernel=rbf .................................\n",
      "[CV] ..... C=1000, gamma=0.001, kernel=rbf, score=1.000, total=   0.0s\n",
      "[CV] C=1000, gamma=0.001, kernel=rbf .................................\n",
      "[CV] ..... C=1000, gamma=0.001, kernel=rbf, score=0.983, total=   0.0s\n",
      "[CV] C=1000, gamma=0.001, kernel=rbf .................................\n",
      "[CV] ..... C=1000, gamma=0.001, kernel=rbf, score=0.915, total=   0.0s\n",
      "[CV] C=1000, gamma=0.0001, kernel=rbf ................................\n",
      "[CV] .... C=1000, gamma=0.0001, kernel=rbf, score=1.000, total=   0.0s\n",
      "[CV] C=1000, gamma=0.0001, kernel=rbf ................................\n",
      "[CV] .... C=1000, gamma=0.0001, kernel=rbf, score=0.983, total=   0.0s\n",
      "[CV] C=1000, gamma=0.0001, kernel=rbf ................................\n",
      "[CV] .... C=1000, gamma=0.0001, kernel=rbf, score=0.915, total=   0.0s\n"
     ]
    },
    {
     "name": "stderr",
     "output_type": "stream",
     "text": [
      "[Parallel(n_jobs=1)]: Done 144 out of 144 | elapsed:    0.7s finished\n",
      "/Users/jliao/anaconda3/lib/python3.7/site-packages/sklearn/model_selection/_search.py:813: DeprecationWarning: The default of the `iid` parameter will change from True to False in version 0.22 and will be removed in 0.24. This will change numeric results when test-set sizes are unequal.\n",
      "  DeprecationWarning)\n"
     ]
    },
    {
     "data": {
      "text/plain": [
       "GridSearchCV(cv='warn', error_score='raise-deprecating',\n",
       "             estimator=SVC(C=1.0, cache_size=200, class_weight=None, coef0=0.0,\n",
       "                           decision_function_shape='ovr', degree=3,\n",
       "                           gamma='auto_deprecated', kernel='rbf', max_iter=-1,\n",
       "                           probability=False, random_state=None, shrinking=True,\n",
       "                           tol=0.001, verbose=False),\n",
       "             iid='warn', n_jobs=None,\n",
       "             param_grid={'C': [0.1, 1, 10, 100, 200, 500, 800, 1000],\n",
       "                         'gamma': [10, 1, 0.1, 0.01, 0.001, 0.0001],\n",
       "                         'kernel': ['rbf']},\n",
       "             pre_dispatch='2*n_jobs', refit=True, return_train_score=False,\n",
       "             scoring=None, verbose=3)"
      ]
     },
     "execution_count": 49,
     "metadata": {},
     "output_type": "execute_result"
    }
   ],
   "source": [
    "from sklearn.model_selection import GridSearchCV\n",
    "grid = GridSearchCV(SVC(),param_grid,refit=True,verbose=3)\n",
    "grid.fit(ntraining179,key179)"
   ]
  },
  {
   "cell_type": "code",
   "execution_count": 50,
   "metadata": {},
   "outputs": [
    {
     "data": {
      "text/plain": [
       "{'C': 100, 'gamma': 0.001, 'kernel': 'rbf'}"
      ]
     },
     "execution_count": 50,
     "metadata": {},
     "output_type": "execute_result"
    }
   ],
   "source": [
    "grid.best_params_"
   ]
  },
  {
   "cell_type": "code",
   "execution_count": 51,
   "metadata": {},
   "outputs": [
    {
     "data": {
      "text/plain": [
       "SVC(C=100, cache_size=200, class_weight=None, coef0=0.0,\n",
       "    decision_function_shape='ovr', degree=3, gamma=0.001, kernel='rbf',\n",
       "    max_iter=-1, probability=False, random_state=None, shrinking=True,\n",
       "    tol=0.001, verbose=False)"
      ]
     },
     "execution_count": 51,
     "metadata": {},
     "output_type": "execute_result"
    }
   ],
   "source": [
    "grid.best_estimator_"
   ]
  },
  {
   "cell_type": "code",
   "execution_count": 52,
   "metadata": {},
   "outputs": [],
   "source": [
    "grid_predictions = grid.predict(test180)"
   ]
  },
  {
   "cell_type": "code",
   "execution_count": 53,
   "metadata": {},
   "outputs": [
    {
     "data": {
      "text/plain": [
       "array([0, 0, 0, 0, 0, 0, 0, 0, 0, 0, 0, 0, 0, 0, 0, 0, 0, 0, 0, 0, 0, 0,\n",
       "       0, 1, 0, 1, 0, 0, 0, 0, 0, 1, 0, 0, 0, 0, 0, 0, 0, 1, 0, 1, 0, 0,\n",
       "       0, 0, 0, 1, 0, 0, 0, 0, 0, 0, 0, 0, 1, 0, 0, 1, 0, 0, 0, 0, 0, 0,\n",
       "       0, 0, 0, 0, 0, 0, 0, 0, 0, 0, 0, 0, 0, 0, 0, 1, 1, 0, 0, 0, 0, 0,\n",
       "       0, 1, 0, 0, 0, 0, 0, 0, 0, 0, 0, 0, 0, 0, 0, 0, 1, 1, 0, 0, 0, 0,\n",
       "       0, 0, 0, 0, 0, 0, 0, 0, 0, 1, 0, 0, 0, 0, 0, 0, 0, 0, 0, 0, 0, 0,\n",
       "       0, 0, 1, 0, 0, 0, 0, 0, 0, 0, 0, 0, 0, 0, 1, 0, 0, 0, 0, 0, 0, 0,\n",
       "       0, 0, 0, 1, 0, 0, 0, 0, 0, 0, 1, 0, 0, 0, 1, 0, 0, 0, 0, 0, 0, 0,\n",
       "       0, 0, 0, 0])"
      ]
     },
     "execution_count": 53,
     "metadata": {},
     "output_type": "execute_result"
    }
   ],
   "source": [
    "grid_predictions"
   ]
  },
  {
   "cell_type": "code",
   "execution_count": 54,
   "metadata": {},
   "outputs": [
    {
     "name": "stdout",
     "output_type": "stream",
     "text": [
      "normal\n",
      "normal\n",
      "normal\n",
      "normal\n",
      "normal\n",
      "normal\n",
      "normal\n",
      "normal\n",
      "normal\n",
      "normal\n",
      "normal\n",
      "normal\n",
      "normal\n",
      "normal\n",
      "normal\n",
      "normal\n",
      "normal\n",
      "normal\n",
      "normal\n",
      "normal\n",
      "normal\n",
      "normal\n",
      "normal\n",
      "aml\n",
      "normal\n",
      "aml\n",
      "normal\n",
      "normal\n",
      "normal\n",
      "normal\n",
      "normal\n",
      "aml\n",
      "normal\n",
      "normal\n",
      "normal\n",
      "normal\n",
      "normal\n",
      "normal\n",
      "normal\n",
      "aml\n",
      "normal\n",
      "aml\n",
      "normal\n",
      "normal\n",
      "normal\n",
      "normal\n",
      "normal\n",
      "aml\n",
      "normal\n",
      "normal\n",
      "normal\n",
      "normal\n",
      "normal\n",
      "normal\n",
      "normal\n",
      "normal\n",
      "aml\n",
      "normal\n",
      "normal\n",
      "aml\n",
      "normal\n",
      "normal\n",
      "normal\n",
      "normal\n",
      "normal\n",
      "normal\n",
      "normal\n",
      "normal\n",
      "normal\n",
      "normal\n",
      "normal\n",
      "normal\n",
      "normal\n",
      "normal\n",
      "normal\n",
      "normal\n",
      "normal\n",
      "normal\n",
      "normal\n",
      "normal\n",
      "normal\n",
      "aml\n",
      "aml\n",
      "normal\n",
      "normal\n",
      "normal\n",
      "normal\n",
      "normal\n",
      "normal\n",
      "aml\n",
      "normal\n",
      "normal\n",
      "normal\n",
      "normal\n",
      "normal\n",
      "normal\n",
      "normal\n",
      "normal\n",
      "normal\n",
      "normal\n",
      "normal\n",
      "normal\n",
      "normal\n",
      "normal\n",
      "aml\n",
      "aml\n",
      "normal\n",
      "normal\n",
      "normal\n",
      "normal\n",
      "normal\n",
      "normal\n",
      "normal\n",
      "normal\n",
      "normal\n",
      "normal\n",
      "normal\n",
      "normal\n",
      "normal\n",
      "aml\n",
      "normal\n",
      "normal\n",
      "normal\n",
      "normal\n",
      "normal\n",
      "normal\n",
      "normal\n",
      "normal\n",
      "normal\n",
      "normal\n",
      "normal\n",
      "normal\n",
      "normal\n",
      "normal\n",
      "aml\n",
      "normal\n",
      "normal\n",
      "normal\n",
      "normal\n",
      "normal\n",
      "normal\n",
      "normal\n",
      "normal\n",
      "normal\n",
      "normal\n",
      "normal\n",
      "aml\n",
      "normal\n",
      "normal\n",
      "normal\n",
      "normal\n",
      "normal\n",
      "normal\n",
      "normal\n",
      "normal\n",
      "normal\n",
      "normal\n",
      "aml\n",
      "normal\n",
      "normal\n",
      "normal\n",
      "normal\n",
      "normal\n",
      "normal\n",
      "aml\n",
      "normal\n",
      "normal\n",
      "normal\n",
      "aml\n",
      "normal\n",
      "normal\n",
      "normal\n",
      "normal\n",
      "normal\n",
      "normal\n",
      "normal\n",
      "normal\n",
      "normal\n",
      "normal\n",
      "normal\n"
     ]
    }
   ],
   "source": [
    "predictlabels = []\n",
    "for entry in grid_predictions:\n",
    "    if entry == 0:\n",
    "        entry = 'normal'\n",
    "    else:\n",
    "        entry = 'aml'\n",
    "    print(entry)\n",
    "    predictlabels.append(entry)"
   ]
  },
  {
   "cell_type": "code",
   "execution_count": 42,
   "metadata": {},
   "outputs": [
    {
     "data": {
      "text/plain": [
       "(180,)"
      ]
     },
     "execution_count": 42,
     "metadata": {},
     "output_type": "execute_result"
    }
   ],
   "source": [
    "np.shape(predictlabels)"
   ]
  },
  {
   "cell_type": "code",
   "execution_count": 43,
   "metadata": {},
   "outputs": [],
   "source": [
    "labelperfile = np.repeat(predictlabels, repeats=8, axis=0)"
   ]
  },
  {
   "cell_type": "code",
   "execution_count": 44,
   "metadata": {},
   "outputs": [
    {
     "data": {
      "text/plain": [
       "(1440,)"
      ]
     },
     "execution_count": 44,
     "metadata": {},
     "output_type": "execute_result"
    }
   ],
   "source": [
    "np.shape(labelperfile)"
   ]
  },
  {
   "cell_type": "code",
   "execution_count": 45,
   "metadata": {},
   "outputs": [],
   "source": [
    "#df = pd.DataFrame(labelperfile)"
   ]
  },
  {
   "cell_type": "code",
   "execution_count": 46,
   "metadata": {},
   "outputs": [],
   "source": [
    "#np.shape(df)"
   ]
  },
  {
   "cell_type": "code",
   "execution_count": 47,
   "metadata": {},
   "outputs": [],
   "source": [
    "#df.to_csv('labelperfile.csv')"
   ]
  },
  {
   "cell_type": "code",
   "execution_count": null,
   "metadata": {},
   "outputs": [],
   "source": []
  }
 ],
 "metadata": {
  "kernelspec": {
   "display_name": "Python 3",
   "language": "python",
   "name": "python3"
  },
  "language_info": {
   "codemirror_mode": {
    "name": "ipython",
    "version": 3
   },
   "file_extension": ".py",
   "mimetype": "text/x-python",
   "name": "python",
   "nbconvert_exporter": "python",
   "pygments_lexer": "ipython3",
   "version": "3.7.3"
  }
 },
 "nbformat": 4,
 "nbformat_minor": 2
}
